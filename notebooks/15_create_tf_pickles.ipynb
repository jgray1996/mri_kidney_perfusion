{
 "cells": [
  {
   "cell_type": "code",
   "execution_count": 22,
   "id": "a3f97bfc",
   "metadata": {},
   "outputs": [],
   "source": [
    "import pickle\n",
    "import nrrd\n",
    "import numpy as np\n",
    "from pathlib import Path\n",
    "import os"
   ]
  },
  {
   "cell_type": "code",
   "execution_count": 33,
   "id": "6048f5fb",
   "metadata": {},
   "outputs": [],
   "source": [
    "def train_test_validation(volume):\n",
    "    pct_80 = int(volume.shape[0] / 100 * 80)\n",
    "    pct_90 = int((volume.shape[0] / 100 * 90))\n",
    "    pct_100 = int(volume.shape[0])\n",
    "    return volume[0:pct_80], volume[pct_80: pct_90], volume[pct_90:pct_100]\n",
    "\n",
    "def write_pickle(obj, file):\n",
    "    with open(file, 'b+w') as pout:\n",
    "        pickle.dump(obj, pout)\n",
    "\n",
    "def convert_to_tensor(seqs, segs):\n",
    "    seqs = np.concatenate(seqs, axis=2)\n",
    "    segs = np.concatenate(segs, axis=2)\n",
    "    seqs = seqs.transpose((2, 0, 1))\n",
    "    segs = segs.transpose((2, 0, 1))\n",
    "    seqs, segs = np.expand_dims(seqs, axis=-1), np.expand_dims(segs, axis=-1)\n",
    "    return seqs, segs\n",
    "\n",
    "def get_files(sequences_path, label_path):\n",
    "    sequence_paths, label_paths = [], []\n",
    "    for seq, label in zip(sequences_path.glob(\"*.nrrd\"), \n",
    "                        label_path.glob(\"*.nrrd\")):\n",
    "        sequence_paths.append(seq), label_paths.append(label)\n",
    "    sequence_paths.sort(), label_paths.sort()\n",
    "    return sequence_paths, label_paths\n",
    "\n",
    "def crop_to_size(seqs, segs, x, y):\n",
    "    return seqs[:,0:x,0:y,:], segs[:,0:x,0:y,:]"
   ]
  },
  {
   "cell_type": "code",
   "execution_count": null,
   "id": "403e2ad4",
   "metadata": {},
   "outputs": [
    {
     "name": "stdout",
     "output_type": "stream",
     "text": [
      "folder exists\n",
      "folder exists\n",
      "folder exists\n",
      "folder exists\n",
      "folder exists\n"
     ]
    }
   ],
   "source": [
    "names = [\"T1\", \"T2\", \"T2star\", \"ASL\", \"DWI\"]\n",
    "base_dir = Path(\"/Users/jgray/Documents/Code/mri_kidney_perfusion/unet_training\")\n",
    "sequences = [Path(f\"Dataset00{i}_{seq}\") for (i, seq) in enumerate(names, start=1)]\n",
    "labels = Path(\"labelsTr\")\n",
    "images = Path(\"imagesPr\")\n",
    "\n",
    "\n",
    "for i, seq_name in enumerate(names):\n",
    "\n",
    "    output_path = base_dir/sequences[i]/Path(\"pickle\")\n",
    "    try:\n",
    "        os.mkdir(output_path)\n",
    "    except:\n",
    "        print(\"folder exists\")\n",
    "\n",
    "    sequences_path = base_dir/sequences[i]/images\n",
    "    label_path = base_dir/sequences[i]/labels\n",
    "\n",
    "    seqs, labs = get_files(sequences_path, label_path)\n",
    "\n",
    "    # convert to tensor\n",
    "    seqs = [nrrd.read(path)[0] for path in seqs]\n",
    "    labs = [nrrd.read(path)[0] for path in labs]\n",
    "\n",
    "    seqs, segs = convert_to_tensor(seqs, labs)\n",
    "    seqs, segs = crop_to_size(seqs, segs, 96, 128)\n",
    "\n",
    "    seq_train, seq_test, seq_val = train_test_validation(seqs)\n",
    "    seg_train, seg_test, seg_val = train_test_validation(segs)\n",
    "\n",
    "    data = {\"seg_test\": seg_test,\n",
    "            \"seq_test\": seq_test,\n",
    "            \"seg_train\": seg_train,\n",
    "            \"seq_train\": seq_train,\n",
    "            \"seg_val\": seg_val,\n",
    "            \"seq_val\": seq_val}\n",
    "\n",
    "    write_pickle(data, output_path/f\"{seq_name}.pkl\")\n"
   ]
  },
  {
   "cell_type": "code",
   "execution_count": 35,
   "id": "69fa7d6a",
   "metadata": {},
   "outputs": [
    {
     "name": "stdout",
     "output_type": "stream",
     "text": [
      "folder exists\n"
     ]
    }
   ],
   "source": [
    "output_path = base_dir/sequences[-1]/Path(\"pickle\")\n",
    "try:\n",
    "    os.mkdir(output_path)\n",
    "except:\n",
    "    print(\"folder exists\")\n",
    "\n",
    "sequences_path = base_dir/sequences[-1]/images\n",
    "label_path = base_dir/sequences[-1]/labels\n",
    "\n",
    "seqs, labs = get_files(sequences_path, label_path)\n",
    "\n",
    "# convert to tensor\n",
    "seqs = [nrrd.read(path)[0] for path in seqs]\n",
    "labs = [nrrd.read(path)[0] for path in labs]\n",
    "\n",
    "seqs, segs = convert_to_tensor(seqs, labs)\n",
    "seqs, segs = crop_to_size(seqs, segs, 96, 128)\n",
    "\n",
    "seq_train, seq_test, seq_val = train_test_validation(seqs)\n",
    "seg_train, seg_test, seg_val = train_test_validation(segs)\n",
    "\n",
    "data = {\"seg_test\": seg_test,\n",
    "        \"seq_test\": seq_test,\n",
    "        \"seg_train\": seg_train,\n",
    "        \"seq_train\": seq_train,\n",
    "        \"seg_val\": seg_val,\n",
    "        \"seq_val\": seq_val}\n",
    "\n",
    "write_pickle(data, output_path/f\"{'DWI'}.pkl\")"
   ]
  }
 ],
 "metadata": {
  "kernelspec": {
   "display_name": "mri",
   "language": "python",
   "name": "python3"
  },
  "language_info": {
   "codemirror_mode": {
    "name": "ipython",
    "version": 3
   },
   "file_extension": ".py",
   "mimetype": "text/x-python",
   "name": "python",
   "nbconvert_exporter": "python",
   "pygments_lexer": "ipython3",
   "version": "3.11.13"
  }
 },
 "nbformat": 4,
 "nbformat_minor": 5
}
