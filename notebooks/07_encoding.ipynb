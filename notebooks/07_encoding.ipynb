{
 "cells": [
  {
   "cell_type": "code",
   "execution_count": null,
   "id": "dd46c83f",
   "metadata": {},
   "outputs": [],
   "source": [
    "import pandas as pd\n",
    "from os import walk\n",
    "from pathlib import Path\n",
    "\n",
    "import pydicom\n",
    "\n",
    "import nrrd\n",
    "import numpy as np\n",
    "from tqdm import tqdm"
   ]
  },
  {
   "cell_type": "markdown",
   "id": "d188af5a",
   "metadata": {},
   "source": [
    "## Loading translation and encoding database.\n",
    "\n",
    "The files of the experiment are anonymized, thus requiring a file to re-translate sed experiments."
   ]
  },
  {
   "cell_type": "code",
   "execution_count": null,
   "id": "4dcadc15",
   "metadata": {},
   "outputs": [],
   "source": [
    "translation = pd.read_excel(\"../databases/WI-EXP_new.xlsx\")\n",
    "translation.head()"
   ]
  },
  {
   "cell_type": "code",
   "execution_count": null,
   "id": "d0dbdbd1",
   "metadata": {},
   "outputs": [],
   "source": [
    "translation.dtypes"
   ]
  },
  {
   "cell_type": "markdown",
   "id": "f4ff5a18",
   "metadata": {},
   "source": [
    "## encoding and formatting nrrds for T1, T2 and T2star"
   ]
  },
  {
   "cell_type": "code",
   "execution_count": null,
   "id": "7fe466de",
   "metadata": {},
   "outputs": [],
   "source": [
    "experiments = [\"T1/Exvivo\", \"T1/Invivo\", \"T2/Exvivo\", \"T2/Invivo\", \"T2star/Exvivo\", \"T2star/Invivo\"]\n",
    "out_dir = Path(\"../data/processed/nrrds/\")\n",
    "\n",
    "for experiment in experiments:\n",
    "    for (root, directories, file) in tqdm(walk(f\"../MRI_data/{experiment}\")):\n",
    "        if not root == \"../MRI_data/\" + experiment\\\n",
    "              and \"Research Groningen\" in root\\\n",
    "                and not root.endswith(\"Groningen\"):\n",
    "            sequence = Path(root)\n",
    "            parts = sequence.parts\n",
    "            exp = parts[4]\n",
    "            time = parts[-1]\n",
    "            folder_name = \"_\".join([exp, time])\n",
    "            description = translation[translation[\"FolderName\"] == folder_name].SeriesDescription.to_string().split(\"#\")[-1]\n",
    "            ischemia = translation[translation[\"FolderName\"] == folder_name].WI.to_string().split()[-1]\n",
    "            side = translation[translation[\"FolderName\"] == folder_name].Side.to_string().split()[-1]\n",
    "            kiney_number = translation[translation[\"FolderName\"] == folder_name].kidney_number.to_string().split()[-1]\n",
    "            experiment_n = translation[translation[\"FolderName\"] == folder_name].Exp_match.to_string().split()[-1]\n",
    "            name = '_'.join([description, ischemia, side, kiney_number, experiment_n,]) + \".nrrd\"\n",
    "            volume = []\n",
    "            for image in Path(root).glob(\"*.dcm\"):\n",
    "                image = pydicom.dcmread(image).pixel_array\n",
    "                volume.append(image)\n",
    "            try:\n",
    "                volume = np.array(volume).transpose((1, 2, 0))\n",
    "                f_out = out_dir/Path(name)\n",
    "                nrrd.write(str(f_out), volume)\n",
    "            except ValueError:\n",
    "                print(\"Empty volume encountered... Will be skipping fr fr\")\n"
   ]
  },
  {
   "cell_type": "markdown",
   "id": "90b393db",
   "metadata": {},
   "source": [
    "## Formatting T1, T2, T2star"
   ]
  },
  {
   "cell_type": "code",
   "execution_count": null,
   "id": "ddaf0f8e",
   "metadata": {},
   "outputs": [],
   "source": [
    "out_dir = Path(\"../data/processed/nrrds/\")\n",
    "place = {\"l\": \"left\", \"r\": \"right\", \"both\": \"both\"}\n",
    "for (root, dir, files) in walk(out_dir):\n",
    "    for file in files:\n",
    "        if not \"DWI\" in file and not \"ASL\" in file and not \"Store\" in file:\n",
    "            file = Path(file)\n",
    "            rename_file = out_dir/file\n",
    "            stem = file.stem\n",
    "            parts = stem.split(\"_\")[1:]\n",
    "            time = parts[2].strip(\"min\")\n",
    "\n",
    "            if not parts[3] == \"Invivo\":\n",
    "                vivo = \"exvivo\"\n",
    "            else:\n",
    "                vivo = \"invivo\"\n",
    "                time = \"-10\"\n",
    "            placement = place[parts[1]]    \n",
    "            experiment = parts[-1]\n",
    "            kidney = parts[-2]\n",
    "            ischemia = parts[3].lower()\n",
    "            if ischemia == \"Both\":\n",
    "                ischemia = \"invivo\"\n",
    "            sequence = parts[0]\n",
    "            file = '_'.join([sequence, experiment, time, vivo, placement, ischemia, kidney]) + \".nrrd\"\n",
    "            f_out = out_dir/Path(file)\n",
    "            rename_file.rename(f_out)\n",
    "            "
   ]
  },
  {
   "cell_type": "markdown",
   "id": "a97132f9",
   "metadata": {},
   "source": [
    "## Adding encoding for DWI and ASL"
   ]
  },
  {
   "cell_type": "code",
   "execution_count": null,
   "id": "1e62ac4f",
   "metadata": {},
   "outputs": [],
   "source": [
    "out_dir = Path(\"../data/processed/nrrds/\")\n",
    "for (root, dir, files) in walk(out_dir):\n",
    "    for file in files:\n",
    "        if file.startswith(\"DWI\") or file.startswith(\"ASL\"):\n",
    "            file = Path(file)\n",
    "            rename_file = out_dir/file\n",
    "            stem = file.stem\n",
    "            parts = stem.split(\"_\")\n",
    "            exp = int(parts[1])\n",
    "            lr = parts[-1].capitalize()\n",
    "\n",
    "            ischemia, kidney = translation[(translation.Exp_match == exp) & \n",
    "                                           (translation.Side == lr)]\\\n",
    "                                            [[\"WI\", \"kidney_number\"]]\\\n",
    "                                            .drop_duplicates()\\\n",
    "                                                .values[0]\n",
    "            f_out = out_dir/Path('_'.join(parts + [ischemia.lower(), kidney]) + \".nrrd\")\n",
    "            rename_file.rename(f_out)"
   ]
  }
 ],
 "metadata": {
  "kernelspec": {
   "display_name": "mri",
   "language": "python",
   "name": "python3"
  },
  "language_info": {
   "codemirror_mode": {
    "name": "ipython",
    "version": 3
   },
   "file_extension": ".py",
   "mimetype": "text/x-python",
   "name": "python",
   "nbconvert_exporter": "python",
   "pygments_lexer": "ipython3",
   "version": "3.11.13"
  }
 },
 "nbformat": 4,
 "nbformat_minor": 5
}
