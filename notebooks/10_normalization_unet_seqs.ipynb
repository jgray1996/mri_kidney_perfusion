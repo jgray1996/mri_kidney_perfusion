{
 "cells": [
  {
   "cell_type": "code",
   "execution_count": 1,
   "id": "c6089b84",
   "metadata": {},
   "outputs": [],
   "source": [
    "import nrrd\n",
    "import numpy as np\n",
    "from pathlib import Path\n",
    "import matplotlib.pyplot as plt\n",
    "from os import walk\n",
    "import pickle"
   ]
  },
  {
   "cell_type": "code",
   "execution_count": 5,
   "id": "c4479830",
   "metadata": {},
   "outputs": [],
   "source": [
    "def get_seqs(path=None, glob=None):\n",
    "\n",
    "    sequence_files = []\n",
    "\n",
    "    # read files from disc\n",
    "    files = Path(path).glob(glob)\n",
    "    for file in files:\n",
    "        # Just exvivo\n",
    "        if not \"invivo\" in str(file).lower():\n",
    "            sequence_files.append(Path(path)/Path(file))\n",
    "    return sequence_files\n",
    "\n",
    "def convert_to_tensor(seqs):\n",
    "    seqs = seqs.transpose((2, 0, 1))\n",
    "    seqs = np.expand_dims(seqs, axis=-1)\n",
    "    return seqs\n",
    "\n",
    "def crop_to_size(seqs, x, y):\n",
    "    return seqs[0:x,0:y,:]\n",
    "\n",
    "def transform_volume(volume_in, transformer_obj):\n",
    "    transformer = transformer_obj[\"transformer\"]\n",
    "    upper = transformer_obj[\"upper\"]\n",
    "    lower = transformer_obj[\"lower\"]\n",
    "    volume_clipped = np.clip(volume_in, a_min=lower, a_max=upper)\n",
    "    volume_reshaped = volume_clipped.reshape(-1, 1)\n",
    "    volume_transformed = transformer.transform(volume_reshaped)\n",
    "    volume_reshaped = volume_transformed.reshape(volume_in.shape)\n",
    "    return volume_reshaped"
   ]
  },
  {
   "cell_type": "markdown",
   "id": "e261bafa",
   "metadata": {},
   "source": [
    "# DWI"
   ]
  },
  {
   "cell_type": "code",
   "execution_count": 6,
   "id": "a22fc4f9",
   "metadata": {},
   "outputs": [],
   "source": [
    "seq_dir = Path(\"/Users/jgray/Documents/Code/mri_kidney_perfusion/data/processed/radiomics_format_sequences\")\n",
    "out_dir = Path(\"/Users/jgray/Documents/Code/mri_kidney_perfusion/unet_unlabeled/Dataset005_DWI/\")\n",
    "files = get_seqs(seq_dir, \"DWI*.nrrd\")"
   ]
  },
  {
   "cell_type": "markdown",
   "id": "bc559f02",
   "metadata": {},
   "source": [
    "### Scaling all files between 0 and 1 and save as tensor z, X, Y, c"
   ]
  },
  {
   "cell_type": "code",
   "execution_count": 7,
   "id": "19ddcbb1",
   "metadata": {},
   "outputs": [],
   "source": [
    "# with open(\"../transformers/DWI_transformer.pkl\", \"br+\") as trin:\n",
    "#     transformer_obj = pickle.load(trin)\n",
    "\n",
    "for file in files:\n",
    "    name = file.name\n",
    "    data, header = nrrd.read(file)\n",
    "    # data = transform_volume(data, transformer_obj)\n",
    "    # data = convert_to_tensor(data)\n",
    "    data = crop_to_size(data, 96, 128)\n",
    "    nrrd.write(str(out_dir/name), data)"
   ]
  },
  {
   "cell_type": "markdown",
   "id": "644b4da4",
   "metadata": {},
   "source": [
    "# ASL"
   ]
  },
  {
   "cell_type": "code",
   "execution_count": 8,
   "id": "3cfe891b",
   "metadata": {},
   "outputs": [],
   "source": [
    "seq_dir = Path(\"/Users/jgray/Documents/Code/mri_kidney_perfusion/data/processed/radiomics_format_sequences\")\n",
    "out_dir = Path(\"/Users/jgray/Documents/Code/mri_kidney_perfusion/unet_unlabeled/Dataset004_ASL/\")\n",
    "files = get_seqs(seq_dir, \"ASL*.nrrd\")"
   ]
  },
  {
   "cell_type": "code",
   "execution_count": 9,
   "id": "53607a23",
   "metadata": {},
   "outputs": [],
   "source": [
    "# with open(\"../transformers/ASL_transformer.pkl\", \"br+\") as trin:\n",
    "#     transformer_obj = pickle.load(trin)\n",
    "\n",
    "for file in files:\n",
    "    name = file.name\n",
    "    data, header = nrrd.read(file)\n",
    "    # data = transform_volume(data, transformer_obj)\n",
    "    # data = convert_to_tensor(data)\n",
    "    nrrd.write(str(out_dir/name), data)"
   ]
  },
  {
   "cell_type": "markdown",
   "id": "af9af493",
   "metadata": {},
   "source": [
    "# T1"
   ]
  },
  {
   "cell_type": "code",
   "execution_count": 10,
   "id": "cba4cf9b",
   "metadata": {},
   "outputs": [],
   "source": [
    "seq_dir = Path(\"/Users/jgray/Documents/Code/mri_kidney_perfusion/data/processed/radiomics_format_sequences\")\n",
    "out_dir = Path(\"/Users/jgray/Documents/Code/mri_kidney_perfusion/unet_unlabeled/Dataset001_T1/\")\n",
    "files = get_seqs(seq_dir, \"T1*.nrrd\")\n",
    "\n",
    "# with open(\"../transformers/T1_transformer.pkl\", \"br+\") as trin:\n",
    "#     transformer_obj = pickle.load(trin)\n",
    "\n",
    "for file in files:\n",
    "    name = file.name\n",
    "    data, header = nrrd.read(file)\n",
    "    # data = transform_volume(data, transformer_obj)\n",
    "    # data = convert_to_tensor(data)\n",
    "    nrrd.write(str(out_dir/name), data)"
   ]
  },
  {
   "cell_type": "markdown",
   "id": "155d1168",
   "metadata": {},
   "source": [
    "# T2"
   ]
  },
  {
   "cell_type": "code",
   "execution_count": 11,
   "id": "044d538f",
   "metadata": {},
   "outputs": [],
   "source": [
    "seq_dir = Path(\"/Users/jgray/Documents/Code/mri_kidney_perfusion/data/processed/radiomics_format_sequences\")\n",
    "out_dir = Path(\"/Users/jgray/Documents/Code/mri_kidney_perfusion/unet_unlabeled/Dataset002_T2/\")\n",
    "files = get_seqs(seq_dir, \"T2*.nrrd\")\n",
    "\n",
    "# with open(\"../transformers/T2_transformer.pkl\", \"br+\") as trin:\n",
    "#     transformer_obj = pickle.load(trin)\n",
    "\n",
    "for file in files:\n",
    "    name = file.name\n",
    "    data, header = nrrd.read(file)\n",
    "    # data = transform_volume(data, transformer_obj)\n",
    "    # data = convert_to_tensor(data)\n",
    "    nrrd.write(str(out_dir/name), data)"
   ]
  },
  {
   "cell_type": "markdown",
   "id": "b4273cdf",
   "metadata": {},
   "source": [
    "# T2star"
   ]
  },
  {
   "cell_type": "code",
   "execution_count": 12,
   "id": "9f0c1f67",
   "metadata": {},
   "outputs": [],
   "source": [
    "seq_dir = Path(\"/Users/jgray/Documents/Code/mri_kidney_perfusion/data/processed/radiomics_format_sequences\")\n",
    "out_dir = Path(\"/Users/jgray/Documents/Code/mri_kidney_perfusion/unet_unlabeled/Dataset003_T2star/\")\n",
    "files = get_seqs(seq_dir, \"T2star*.nrrd\")\n",
    "\n",
    "# with open(\"../transformers/T1_transformer.pkl\", \"br+\") as trin:\n",
    "#     transformer_obj = pickle.load(trin)\n",
    "\n",
    "for file in files:\n",
    "    name = file.name\n",
    "    data, header = nrrd.read(file)\n",
    "    # data = transform_volume(data, transformer_obj)\n",
    "    # data = convert_to_tensor(data)\n",
    "    data = data.transpose((1, 0, 2))\n",
    "    nrrd.write(str(out_dir/name), data)"
   ]
  }
 ],
 "metadata": {
  "kernelspec": {
   "display_name": "mri",
   "language": "python",
   "name": "python3"
  },
  "language_info": {
   "codemirror_mode": {
    "name": "ipython",
    "version": 3
   },
   "file_extension": ".py",
   "mimetype": "text/x-python",
   "name": "python",
   "nbconvert_exporter": "python",
   "pygments_lexer": "ipython3",
   "version": "3.11.13"
  }
 },
 "nbformat": 4,
 "nbformat_minor": 5
}
