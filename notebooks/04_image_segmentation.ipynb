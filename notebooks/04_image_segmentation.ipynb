{
 "cells": [
  {
   "cell_type": "code",
   "execution_count": 114,
   "id": "9b25c725",
   "metadata": {},
   "outputs": [
    {
     "name": "stdout",
     "output_type": "stream",
     "text": [
      "The autoreload extension is already loaded. To reload it, use:\n",
      "  %reload_ext autoreload\n"
     ]
    }
   ],
   "source": [
    "%load_ext autoreload\n",
    "%autoreload 2"
   ]
  },
  {
   "cell_type": "code",
   "execution_count": 115,
   "id": "e2d63271",
   "metadata": {},
   "outputs": [],
   "source": [
    "import sys\n",
    "from pathlib import Path\n",
    "\n",
    "sys.path.append(str(Path(\".\").resolve().parent))\n",
    "\n",
    "import numpy as np\n",
    "import matplotlib.pyplot as plt\n",
    "import matplotlib.animation as animation\n",
    "from matplotlib import rc\n",
    "rc('animation', html='html5')\n",
    "from scripts.experiments import InputOutput\n",
    "io = InputOutput()"
   ]
  },
  {
   "cell_type": "code",
   "execution_count": 116,
   "id": "a080ae65",
   "metadata": {},
   "outputs": [],
   "source": [
    "seq, seg = io.read_nrrds(\"../MRI_data/ROI/DWI\")"
   ]
  },
  {
   "cell_type": "code",
   "execution_count": 117,
   "id": "53fc590a",
   "metadata": {},
   "outputs": [],
   "source": [
    "seq_header, seq_vol = io.nrrd_to_matrix(seq)\n",
    "seg_header, seg_vol = io.nrrd_to_matrix(seg)"
   ]
  },
  {
   "cell_type": "code",
   "execution_count": 118,
   "id": "33c8bab1",
   "metadata": {},
   "outputs": [],
   "source": [
    "def fix_volume_shape(volume):\n",
    "    \"\"\"\n",
    "    This module fixes the shape of a volume if there is a transposed image.\n",
    "    Sometimes this happens for the DWI sequence.\n",
    "    \"\"\"\n",
    "    if volume.shape[0] == 128 and volume.shape[1] == 104:\n",
    "        volume = np.transpose(volume, (1, 0, 2))\n",
    "    return volume\n",
    "\n",
    "# Example: assuming `volumes` is a list of your arrays\n",
    "seq_vol = [fix_volume_shape(vol) for vol in seq_vol]\n",
    "seg_vol = [fix_volume_shape(vol) for vol in seg_vol]"
   ]
  },
  {
   "cell_type": "code",
   "execution_count": 119,
   "id": "90c6074a",
   "metadata": {},
   "outputs": [],
   "source": [
    "seq_vol = np.concatenate(seq_vol, axis=2)\n",
    "seg_vol = np.concatenate(seg_vol, axis=2)"
   ]
  },
  {
   "cell_type": "code",
   "execution_count": 120,
   "id": "9253a4c2",
   "metadata": {},
   "outputs": [
    {
     "data": {
      "text/plain": [
       "((104, 128, 570), (104, 128, 570))"
      ]
     },
     "execution_count": 120,
     "metadata": {},
     "output_type": "execute_result"
    }
   ],
   "source": [
    "seg_vol.shape, seq_vol.shape"
   ]
  },
  {
   "cell_type": "markdown",
   "id": "73080786",
   "metadata": {},
   "source": [
    "### Visualization of segmentation by pseudo rgb encoding"
   ]
  },
  {
   "cell_type": "code",
   "execution_count": 121,
   "id": "4d2b3e89",
   "metadata": {},
   "outputs": [
    {
     "data": {
      "image/png": "[encoded data removed]",
      "text/plain": [
       "<Figure size 640x480 with 1 Axes>"
      ]
     },
     "metadata": {},
     "output_type": "display_data"
    }
   ],
   "source": [
    "slc = 12\n",
    "vs = seg_vol[:, :, slc]\n",
    "v = seq_vol[:, :, slc]\n",
    "v = v / v.max()\n",
    "\n",
    "rgb = np.stack((v+vs*0.4, v, v), axis=-1)\n",
    "plt.imshow(rgb)\n",
    "plt.show()"
   ]
  },
  {
   "cell_type": "code",
   "execution_count": 122,
   "id": "20cd98d9",
   "metadata": {},
   "outputs": [],
   "source": [
    "def animation_from_array(seq=None, seg=None):\n",
    "    \"\"\"\n",
    "    Function takes images files from array and converts them to an animation object\n",
    "    \"\"\"\n",
    "\n",
    "    imgs = []\n",
    "    fig, ax = plt.subplots()\n",
    "\n",
    "    for i in range(seq.shape[2]):\n",
    "        arr = seq[:,:,i]\n",
    "        arr = arr/arr.max()\n",
    "        s = seg[:,:,i]\n",
    "        rgb = np.stack((arr+s*0.3, arr, arr), axis=-1)\n",
    "        im = ax.imshow(rgb, animated = True, cmap=\"grey\")\n",
    "        imgs.append([im])\n",
    "\n",
    "    ani = animation.ArtistAnimation(fig, imgs, interval=100, blit=True,\n",
    "                                    repeat_delay=1000)\n",
    "    return ani\n",
    "\n",
    "# ani = animation_from_array(seq=seq_vol, seg=seg_vol)\n",
    "# ani.save(\"DWI_segmentations.mp4\")\n",
    "# ani"
   ]
  },
  {
   "cell_type": "code",
   "execution_count": null,
   "id": "bb2be0ec",
   "metadata": {},
   "outputs": [],
   "source": []
  }
 ],
 "metadata": {
  "kernelspec": {
   "display_name": "mri",
   "language": "python",
   "name": "python3"
  },
  "language_info": {
   "codemirror_mode": {
    "name": "ipython",
    "version": 3
   },
   "file_extension": ".py",
   "mimetype": "text/x-python",
   "name": "python",
   "nbconvert_exporter": "python",
   "pygments_lexer": "ipython3",
   "version": "3.11.12"
  }
 },
 "nbformat": 4,
 "nbformat_minor": 5
}
