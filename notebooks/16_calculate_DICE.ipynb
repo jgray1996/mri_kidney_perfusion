{
 "cells": [
  {
   "cell_type": "code",
   "execution_count": 1,
   "id": "a6562119",
   "metadata": {},
   "outputs": [],
   "source": [
    "import nrrd\n",
    "import numpy as np\n",
    "from pathlib import Path"
   ]
  },
  {
   "cell_type": "markdown",
   "id": "4ce4484d",
   "metadata": {},
   "source": [
    "# Calculation of dice scores for model segmentation performance\n",
    "\n",
    "## DICE score\n",
    "\n",
    "Dice-Sorensen Coefficient where $|X|$ and $|Y|$ are the number of elements in the set and $|X \\cap Y|$ are the number of intersecting elements. \n",
    "\n",
    "$ DSC = \\frac{2|X \\cap Y |}{|X| + |Y|}$"
   ]
  },
  {
   "cell_type": "code",
   "execution_count": 8,
   "id": "941df088",
   "metadata": {},
   "outputs": [
    {
     "data": {
      "text/plain": [
       "np.float64(0.6)"
      ]
     },
     "execution_count": 8,
     "metadata": {},
     "output_type": "execute_result"
    }
   ],
   "source": [
    "x = np.array([1, 0, 1, 1, 1])\n",
    "y = np.array([0, 0, 1, 0, 1])\n",
    "\n",
    "def dice(x, y):\n",
    "    x = x.flatten()\n",
    "    y = y.flatten()\n",
    "    intersection = sum(x == y)\n",
    "    DSC = 2*intersection/(len(x) + len(y))\n",
    "    return DSC\n",
    "\n",
    "dice(x, y)"
   ]
  },
  {
   "cell_type": "markdown",
   "id": "97a530a0",
   "metadata": {},
   "source": [
    "# Test on validation data from T1 model and sequences."
   ]
  },
  {
   "cell_type": "code",
   "execution_count": null,
   "id": "f358d9ee",
   "metadata": {},
   "outputs": [],
   "source": []
  }
 ],
 "metadata": {
  "kernelspec": {
   "display_name": "mri",
   "language": "python",
   "name": "python3"
  },
  "language_info": {
   "codemirror_mode": {
    "name": "ipython",
    "version": 3
   },
   "file_extension": ".py",
   "mimetype": "text/x-python",
   "name": "python",
   "nbconvert_exporter": "python",
   "pygments_lexer": "ipython3",
   "version": "3.11.13"
  }
 },
 "nbformat": 4,
 "nbformat_minor": 5
}
