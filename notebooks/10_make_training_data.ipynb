{
 "cells": [
  {
   "cell_type": "code",
   "execution_count": 4,
   "id": "43ee4005",
   "metadata": {},
   "outputs": [],
   "source": [
    "import numpy as np\n",
    "import pickle\n",
    "from pathlib import Path\n",
    "from os import walk\n",
    "import nrrd"
   ]
  },
  {
   "cell_type": "markdown",
   "id": "bbdd3598",
   "metadata": {},
   "source": [
    "## Helper code for reading all nrrds from folder"
   ]
  },
  {
   "cell_type": "code",
   "execution_count": 10,
   "id": "94ab480b",
   "metadata": {},
   "outputs": [],
   "source": [
    "def get_seqs(path = \"input_dir\"):\n",
    "    segmentation_files = []\n",
    "    sequence_files = []\n",
    "    for (root, direc, files) in walk(path):\n",
    "        for file in files:\n",
    "            if not \"invivo\" in root or not \"invivo\" in direc or not \"invivo\" in file:\n",
    "                if file.endswith(\"label.nrrd\") or file.endswith(\"seg.nrrd\"):\n",
    "                    segmentation_files.append(Path(root)/Path(file))\n",
    "                if not file.endswith(\"label.nrrd\") and not file.endswith(\"seg.nrrd\") and file.endswith(\".nrrd\"):\n",
    "                    sequence_files.append(Path(root)/Path(file))\n",
    "    segmentation_files.sort(), sequence_files.sort()\n",
    "    # for seq, seg in zip(sequence_files, segmentation_files):\n",
    "    #     print(seq, seg)\n",
    "    sequence_files = [nrrd.read(file)[0] for file in sequence_files]\n",
    "    segmentation_files = [nrrd.read(file)[0] for file in segmentation_files]\n",
    "    # for seq in sequence_files:\n",
    "    #     print(seq.shape)\n",
    "    return sequence_files, segmentation_files\n",
    "\n",
    "def transpose(seqs, segs):\n",
    "    new_seq = []\n",
    "    new_seg = []\n",
    "    for seq in seqs:\n",
    "        if seq.shape[0] > seq.shape[1]:\n",
    "            new_seq.append(seq.transpose((1, 0, 2)))\n",
    "        elif seq.shape[0] < seq.shape[1]:\n",
    "            new_seq.append(seq)\n",
    "        elif seq.shape[0] == seq.shape[1]:\n",
    "            new_seq.append(seq)\n",
    "        else:\n",
    "            print(\"Something wrong\")\n",
    "    for seg in segs:\n",
    "        if seg.shape[0] > seg.shape[1]:\n",
    "            new_seq.append(seg.transpose((1, 0, 2)))\n",
    "        elif seg.shape[0] < seg.shape[1]:\n",
    "            new_seg.append(seg)\n",
    "        elif seg.shape[0] == seg.shape[1]:\n",
    "            new_seg.append(seg)\n",
    "        else:\n",
    "            print(\"Something wrong\")\n",
    "    return new_seq, new_seg\n",
    "\n",
    "\n",
    "def crop_to_size(seqs, segs, x, y):\n",
    "    return seqs[:,0:x,0:y,:], segs[:,0:x,0:y,:]\n",
    "\n",
    "def pad_with_zeros(seqs, segs, pad_dim=(128, 128, 31)):\n",
    "    new_seq = []\n",
    "    new_seg = []\n",
    "\n",
    "    for seq in seqs:\n",
    "        pad = np.zeros(pad_dim)\n",
    "        pad[0:seq.shape[0], 0:seq.shape[1], 0:seq.shape[2]] = seq\n",
    "        new_seq.append(pad)\n",
    "    \n",
    "    for seg in segs:\n",
    "        pad = np.zeros(pad_dim)\n",
    "        pad[0:seg.shape[0], 0:seg.shape[1], 0:seg.shape[2]] = seg\n",
    "        new_seg.append(pad)\n",
    "\n",
    "    return new_seq, new_seg\n",
    "\n",
    "def allow_only_by(seqs, segs, size=(128, 256, 20)):\n",
    "    seqs = [seq for seq in seqs if seq.shape == size]\n",
    "    segs = [seg for seg in segs if seg.shape == size]\n",
    "    return seqs, segs\n",
    "\n",
    "\n",
    "def convert_to_tensor(seqs, segs):\n",
    "    # for seq, seg in zip(seqs, segs):\n",
    "    #     print(seq.shape, seg.shape)\n",
    "    seqs = np.concatenate(seqs, axis=2)\n",
    "    segs = np.concatenate(segs, axis=2)\n",
    "    seqs = seqs.transpose((2, 0, 1))\n",
    "    segs = segs.transpose((2, 0, 1))\n",
    "    seqs, segs = np.expand_dims(seqs, axis=-1), np.expand_dims(segs, axis=-1)\n",
    "    return seqs, segs\n",
    "\n",
    "def normalize_by(seq, min_v=0, max_v=1, std=0, stds=1, mean=0, clip=False, clip_max=False):\n",
    "    if clip_max:\n",
    "        seq = seq.clip(seq, max=clip_max)\n",
    "    if clip:\n",
    "        seq = seq.clip(seq, max = mean + (std * stds))\n",
    "    seq = seq / max_v\n",
    "    return seq\n",
    "\n",
    "def train_test_validation(volume):\n",
    "    pct_80 = int(volume.shape[0] / 100 * 80)\n",
    "    pct_90 = int((volume.shape[0] / 100 * 90))\n",
    "    pct_100 = int(volume.shape[0])\n",
    "    return volume[0:pct_80], volume[pct_80: pct_90], volume[pct_90:pct_100]\n",
    "\n",
    "def write_pickle(obj, file):\n",
    "    with open(file, 'b+w') as pout:\n",
    "        pickle.dump(obj, pout)"
   ]
  },
  {
   "cell_type": "markdown",
   "id": "aba9638d",
   "metadata": {},
   "source": [
    "# ASL"
   ]
  },
  {
   "cell_type": "code",
   "execution_count": 3,
   "id": "e2cdc828",
   "metadata": {},
   "outputs": [],
   "source": [
    "input_dir = Path(\"../ROI/ROI_NEW/ASL\")\n",
    "output_file = Path(\"../data/pickles/ASL.pkl\")\n",
    "seqs, segs = get_seqs(input_dir)\n",
    "seqs, segs = pad_with_zeros(seqs, segs, pad_dim=(128, 128, 31))\n",
    "seqs, segs = convert_to_tensor(seqs, segs)\n",
    "seqs = normalize_by(seqs, max_v=19076.6, std=3087.4, stds=6, mean=552.27, clip=True)\n",
    "seg_train, seg_test, seg_val = train_test_validation(segs)\n",
    "seq_train, seq_test, seq_val = train_test_validation(seqs)\n",
    "\n",
    "ASL_data = {\"seg_test\": seg_test,\n",
    "            \"seq_test\": seq_test,\n",
    "            \"seg_train\": seg_train,\n",
    "            \"seq_train\": seq_train,\n",
    "            \"seg_val\": seg_val,\n",
    "            \"seq_val\": seq_val}\n",
    "write_pickle(ASL_data, output_file)"
   ]
  },
  {
   "cell_type": "markdown",
   "id": "f5b81e81",
   "metadata": {},
   "source": [
    "# DWI"
   ]
  },
  {
   "cell_type": "code",
   "execution_count": 52,
   "id": "1921ae38",
   "metadata": {},
   "outputs": [
    {
     "ename": "EOFError",
     "evalue": "Ran out of input",
     "output_type": "error",
     "traceback": [
      "\u001b[31m---------------------------------------------------------------------------\u001b[39m",
      "\u001b[31mEOFError\u001b[39m                                  Traceback (most recent call last)",
      "\u001b[36mCell\u001b[39m\u001b[36m \u001b[39m\u001b[32mIn[52]\u001b[39m\u001b[32m, line 3\u001b[39m\n\u001b[32m      1\u001b[39m output_file = Path(\u001b[33m\"\u001b[39m\u001b[33m../data/pickles/DWI_data.pkl\u001b[39m\u001b[33m\"\u001b[39m)\n\u001b[32m      2\u001b[39m \u001b[38;5;28;01mwith\u001b[39;00m \u001b[38;5;28mopen\u001b[39m(output_file, \u001b[33m\"\u001b[39m\u001b[33m+br\u001b[39m\u001b[33m\"\u001b[39m) \u001b[38;5;28;01mas\u001b[39;00m p_in:\n\u001b[32m----> \u001b[39m\u001b[32m3\u001b[39m     data = \u001b[43mpickle\u001b[49m\u001b[43m.\u001b[49m\u001b[43mload\u001b[49m\u001b[43m(\u001b[49m\u001b[43mp_in\u001b[49m\u001b[43m)\u001b[49m\n\u001b[32m      5\u001b[39m \u001b[38;5;66;03m# DWI_data = {\"seg_test\": seg_test,\u001b[39;00m\n\u001b[32m      6\u001b[39m \u001b[38;5;66;03m#             \"seq_test\": seq_test,\u001b[39;00m\n\u001b[32m      7\u001b[39m \u001b[38;5;66;03m#             \"seg_train\": seg_train,\u001b[39;00m\n\u001b[32m   (...)\u001b[39m\u001b[32m     10\u001b[39m \u001b[38;5;66;03m#             \"seq_val\": seq_val}\u001b[39;00m\n\u001b[32m     11\u001b[39m \u001b[38;5;66;03m# write_pickle(DWI_data, output_file)\u001b[39;00m\n",
      "\u001b[31mEOFError\u001b[39m: Ran out of input"
     ]
    }
   ],
   "source": [
    "output_file = Path(\"../data/pickles/DWI_data.pkl\")\n",
    "with open(output_file, \"+br\") as p_in:\n",
    "    data = pickle.load(p_in)\n",
    "\n",
    "# DWI_data = {\"seg_test\": seg_test,\n",
    "#             \"seq_test\": seq_test,\n",
    "#             \"seg_train\": seg_train,\n",
    "#             \"seq_train\": seq_train,\n",
    "#             \"seg_val\": seg_val,\n",
    "#             \"seq_val\": seq_val}\n",
    "# write_pickle(DWI_data, output_file)"
   ]
  },
  {
   "cell_type": "markdown",
   "id": "c4cabd7d",
   "metadata": {},
   "source": [
    "# T2"
   ]
  },
  {
   "cell_type": "code",
   "execution_count": 60,
   "id": "2fbaf8a0",
   "metadata": {},
   "outputs": [],
   "source": [
    "input_dir = Path(\"../ROI/ROI_NEW/T2\")\n",
    "output_file = Path(\"../data/pickles/T2.pkl\")\n",
    "seqs, segs = get_seqs(input_dir)\n",
    "seqs, segs = transpose(seqs, segs)\n",
    "seqs, segs = convert_to_tensor(seqs, segs)\n",
    "seqs = normalize_by(seqs, max_v=1370.8, mean=123.746, std=207.8, stds=6, clip=True)\n",
    "seg_train, seg_test, seg_val = train_test_validation(segs)\n",
    "seq_train, seq_test, seq_val = train_test_validation(seqs)\n",
    "T2_data = {\"seg_test\": seg_test,\n",
    "            \"seq_test\": seq_test,\n",
    "            \"seg_train\": seg_train,\n",
    "            \"seq_train\": seq_train,\n",
    "            \"seg_val\": seg_val,\n",
    "            \"seq_val\": seq_val}\n",
    "write_pickle(T2_data, output_file)"
   ]
  },
  {
   "cell_type": "markdown",
   "id": "b920e789",
   "metadata": {},
   "source": [
    "# T2star"
   ]
  },
  {
   "cell_type": "code",
   "execution_count": 20,
   "id": "d2e36840",
   "metadata": {},
   "outputs": [],
   "source": [
    "input_dir = Path(\"../ROI/ROI_NEW/T2star\")\n",
    "output_file = Path(\"../data/pickles/T2star.pkl\")\n",
    "seqs, segs = get_seqs(input_dir)\n",
    "# seqs, segs = transpose(seqs, segs)\n",
    "seqs, segs = allow_only_by(seqs, segs)\n",
    "\n",
    "seqs, segs = convert_to_tensor(seqs, segs)\n",
    "# print(len(seqs), len(segs))\n",
    "seqs = normalize_by(seqs, max_v=300, mean=133.748, std=0, stds=0, clip_max=300)\n",
    "seg_train, seg_test, seg_val = train_test_validation(segs)\n",
    "seq_train, seq_test, seq_val = train_test_validation(seqs)\n",
    "T2star_data = {\"seg_test\": seg_test,\n",
    "            \"seq_test\": seq_test,\n",
    "            \"seg_train\": seg_train,\n",
    "            \"seq_train\": seq_train,\n",
    "            \"seg_val\": seg_val,\n",
    "            \"seq_val\": seq_val}\n",
    "write_pickle(T2star_data, output_file)"
   ]
  }
 ],
 "metadata": {
  "kernelspec": {
   "display_name": "mri",
   "language": "python",
   "name": "python3"
  },
  "language_info": {
   "codemirror_mode": {
    "name": "ipython",
    "version": 3
   },
   "file_extension": ".py",
   "mimetype": "text/x-python",
   "name": "python",
   "nbconvert_exporter": "python",
   "pygments_lexer": "ipython3",
   "version": "3.11.13"
  }
 },
 "nbformat": 4,
 "nbformat_minor": 5
}
