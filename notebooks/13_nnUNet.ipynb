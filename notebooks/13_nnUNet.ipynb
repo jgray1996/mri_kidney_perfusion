{
 "cells": [
  {
   "cell_type": "code",
   "execution_count": 33,
   "id": "d35e7adc",
   "metadata": {},
   "outputs": [],
   "source": [
    "from pathlib import Path\n",
    "import nrrd\n",
    "import numpy as np"
   ]
  },
  {
   "cell_type": "code",
   "execution_count": 74,
   "id": "2c8df4bc",
   "metadata": {},
   "outputs": [],
   "source": [
    "imgs = Path(\"imagesTr\")\n",
    "labs = Path(\"labelsTr\")\n",
    "\n",
    "\n",
    "def get_seqs(datapath):\n",
    "\n",
    "    segmentation_files = []\n",
    "    sequence_files = []\n",
    "\n",
    "    segpath = datapath/labs\n",
    "    seqpath = datapath/imgs\n",
    "\n",
    "    segmentation_files = [file for file in segpath.glob(\"*.nrrd\")]\n",
    "    sequence_files = [file for file in seqpath.glob(\"*.nrrd\")]\n",
    "\n",
    "    segmentation_files.sort(), sequence_files.sort()\n",
    "\n",
    "    return sequence_files, segmentation_files\n",
    "\n",
    "def transpose(seqs, segs):\n",
    "    new_seq = []\n",
    "    new_seg = []\n",
    "    for seq in seqs:\n",
    "        data, header = nrrd.read(seq)\n",
    "        if data.shape[0] > data.shape[1]:\n",
    "            new_seq.append(seq)\n",
    "            nrrd.write(str(seq), data.transpose((1, 0, 2)))\n",
    "        elif data.shape[0] < data.shape[1]:\n",
    "            new_seq.append(seq)\n",
    "        elif data.shape[0] == data.shape[1]:\n",
    "            new_seq.append(seq)\n",
    "        else:\n",
    "            print(\"Something wrong\")\n",
    "\n",
    "    for seg in segs:\n",
    "        data, header = nrrd.read(seq)\n",
    "        if data.shape[0] > data.shape[1]:\n",
    "            new_seg.append(seg)\n",
    "            nrrd.write(str(seg), data.transpose((1, 0, 2)))\n",
    "        elif data.shape[0] < data.shape[1]:\n",
    "            new_seg.append(seg)\n",
    "        elif data.shape[0] == data.shape[1]:\n",
    "            new_seg.append(seg)\n",
    "        else:\n",
    "            print(\"Something wrong\")\n",
    "    return new_seq, new_seg\n",
    "\n",
    "\n",
    "def crop_to_size(seqs, segs, x, y):\n",
    "    return seqs[:,0:x,0:y,:], segs[:,0:x,0:y,:]\n",
    "\n",
    "def pad_with_zeros(seqs, segs, pad_dim=(128, 128, 31)):\n",
    "    new_seq = []\n",
    "    new_seg = []\n",
    "\n",
    "    for seq in seqs:\n",
    "        data_seq, _ = nrrd.read(seq)\n",
    "        pad = np.zeros(pad_dim)\n",
    "        pad[0:data_seq.shape[0], 0:data_seq.shape[1], 0:data_seq.shape[2]] = data_seq\n",
    "        nrrd.write(str(seq), pad)\n",
    "        new_seq.append(seq)\n",
    "    \n",
    "    for seg in segs:\n",
    "        data_seg, _ = nrrd.read(seg)\n",
    "        pad = np.zeros(pad_dim)\n",
    "        pad[0:data_seg.shape[0], 0:data_seg.shape[1], 0:data_seg.shape[2]] = data_seg\n",
    "        nrrd.write(str(seg), pad)\n",
    "        new_seg.append(seg)\n",
    "\n",
    "    return new_seq, new_seg\n",
    "\n",
    "def allow_only_by(seqs, segs, size=(128, 256, 20)):\n",
    "    new_seqs = []\n",
    "    new_segs = []\n",
    "\n",
    "    for seq, seg in zip(seqs, segs):\n",
    "        data_seq, _ = nrrd.read(seq)\n",
    "        data_seg, _ = nrrd.read(seg)\n",
    "        if data_seq.shape == size and data_seg.shape == size:\n",
    "            new_seqs.append(seq)\n",
    "            new_segs.append(seg)\n",
    "\n",
    "    return new_seqs, new_segs\n",
    "\n"
   ]
  },
  {
   "cell_type": "code",
   "execution_count": 100,
   "id": "9c431057",
   "metadata": {},
   "outputs": [],
   "source": [
    "unet_path_1 = Path(\"../nnUNet_raw/Dataset001_T1/\")\n",
    "unet_path_2 = Path(\"../nnUNet_raw/Dataset002_T2/\")\n",
    "unet_path_3 = Path(\"../nnUNet_raw/Dataset003_T2star/\")\n",
    "unet_path_4 = Path(\"../nnUNet_raw/Dataset004_ASL/\")\n",
    "unet_path_5 = Path(\"../nnUNet_raw/Dataset005_DWI/\")\n",
    "\n",
    "seq_names = [\"T1\", \"T2\", \"T2star\", \"ASL\", \"DWI\"]\n",
    "paths = [unet_path_1, unet_path_2, unet_path_3, unet_path_4, unet_path_5]"
   ]
  },
  {
   "cell_type": "markdown",
   "id": "cf01ba75",
   "metadata": {},
   "source": [
    "# T2"
   ]
  },
  {
   "cell_type": "code",
   "execution_count": 35,
   "id": "3967a20d",
   "metadata": {},
   "outputs": [],
   "source": [
    "seqs, segs = get_seqs(unet_path_2)\n",
    "seqs, segs = transpose(seqs, segs)"
   ]
  },
  {
   "cell_type": "code",
   "execution_count": 59,
   "id": "501b1d78",
   "metadata": {},
   "outputs": [],
   "source": [
    "for seq, seg in zip(seqs, segs):\n",
    "    name_seq = seq.name\n",
    "    clean_out_seq = seq.parent/\"clean\"/name_seq\n",
    "    seq.rename(clean_out_seq)\n",
    "\n",
    "    name_seg = seg.name\n",
    "    clean_out_seg = seg.parent/\"clean\"/name_seg\n",
    "    seg.rename(clean_out_seg)"
   ]
  },
  {
   "cell_type": "markdown",
   "id": "75c18494",
   "metadata": {},
   "source": [
    "# T2star"
   ]
  },
  {
   "cell_type": "code",
   "execution_count": 71,
   "id": "16ac74b7",
   "metadata": {},
   "outputs": [],
   "source": [
    "seqs, segs = get_seqs(unet_path_3)\n",
    "seqs, segs = transpose(seqs, segs)\n",
    "seqs, segs = allow_only_by(seqs, segs)\n",
    "\n",
    "for seq, seg in zip(seqs, segs):\n",
    "    name_seq = seq.name\n",
    "    clean_out_seq = seq.parent/\"clean\"/name_seq\n",
    "    seq.rename(clean_out_seq)\n",
    "\n",
    "    name_seg = seg.name\n",
    "    clean_out_seg = seg.parent/\"clean\"/name_seg\n",
    "    seg.rename(clean_out_seg)"
   ]
  },
  {
   "cell_type": "markdown",
   "id": "6cf9f85e",
   "metadata": {},
   "source": [
    "# ASL"
   ]
  },
  {
   "cell_type": "code",
   "execution_count": 78,
   "id": "6f6634bd",
   "metadata": {},
   "outputs": [],
   "source": [
    "seqs, segs = get_seqs(unet_path_4)\n",
    "seqs, segs = pad_with_zeros(seqs, segs)\n",
    "\n",
    "for seq, seg in zip(seqs, segs):\n",
    "    name_seq = seq.name\n",
    "    clean_out_seq = seq.parent/\"clean\"/name_seq\n",
    "    seq.rename(clean_out_seq)\n",
    "\n",
    "    name_seg = seg.name\n",
    "    clean_out_seg = seg.parent/\"clean\"/name_seg\n",
    "    seg.rename(clean_out_seg)"
   ]
  },
  {
   "cell_type": "markdown",
   "id": "513a0717",
   "metadata": {},
   "source": [
    "# DWI"
   ]
  },
  {
   "cell_type": "code",
   "execution_count": 79,
   "id": "d458a430",
   "metadata": {},
   "outputs": [],
   "source": [
    "seqs, segs = get_seqs(unet_path_5)\n",
    "seqs, segs = transpose(seqs, segs)\n",
    "seqs, segs = allow_only_by(seqs, segs, size=(104, 128, 15))\n",
    "\n",
    "\n",
    "for seq, seg in zip(seqs, segs):\n",
    "    name_seq = seq.name\n",
    "    clean_out_seq = seq.parent/\"clean\"/name_seq\n",
    "    seq.rename(clean_out_seq)\n",
    "\n",
    "    name_seg = seg.name\n",
    "    clean_out_seg = seg.parent/\"clean\"/name_seg\n",
    "    seg.rename(clean_out_seg)"
   ]
  },
  {
   "cell_type": "markdown",
   "id": "22bed57d",
   "metadata": {},
   "source": [
    "## Format to the right name"
   ]
  },
  {
   "cell_type": "code",
   "execution_count": null,
   "id": "23e7e6e8",
   "metadata": {},
   "outputs": [],
   "source": [
    "for (path, sequence_name) in zip(paths, seq_names):\n",
    "    seqs, segs = get_seqs(path)\n",
    "    print(path, sequence_name)\n",
    "    for i, (seq, seg) in enumerate(zip(seqs, segs)):\n",
    "        if seq.name == seg.name:\n",
    "            seq_name = f\"{sequence_name}_{i:03d}_0000.nrrd\"\n",
    "            seg_name = f\"{sequence_name}_{i:03d}.nrrd\"\n",
    "\n",
    "            # rename seq\n",
    "            seq_ori = seq.name\n",
    "            clean_out_seq = seq.parent/seq_name\n",
    "            seq.rename(clean_out_seq)\n",
    "\n",
    "            # rename seg\n",
    "            seg_ori = seg.name\n",
    "            clean_out_seg = seg.parent/seg_name\n",
    "            seg.rename(clean_out_seg)"
   ]
  }
 ],
 "metadata": {
  "kernelspec": {
   "display_name": "mri",
   "language": "python",
   "name": "python3"
  },
  "language_info": {
   "codemirror_mode": {
    "name": "ipython",
    "version": 3
   },
   "file_extension": ".py",
   "mimetype": "text/x-python",
   "name": "python",
   "nbconvert_exporter": "python",
   "pygments_lexer": "ipython3",
   "version": "3.11.13"
  }
 },
 "nbformat": 4,
 "nbformat_minor": 5
}
