{
 "cells": [
  {
   "cell_type": "code",
   "execution_count": 2,
   "id": "c6089b84",
   "metadata": {},
   "outputs": [],
   "source": [
    "import nrrd\n",
    "import numpy as np\n",
    "from pathlib import Path\n",
    "import matplotlib.pyplot as plt"
   ]
  },
  {
   "cell_type": "code",
   "execution_count": 7,
   "id": "8df9d0be",
   "metadata": {},
   "outputs": [],
   "source": [
    "sequence_globs = [\n",
    "    # \"ASL*exvivo*.nrrd\",\n",
    "    # \"DWI*exvivo*.nrrd\",\n",
    "    # \"T1*exvivo*.nrrd\",\n",
    "    \"T2_*exvivo*.nrrd\",\n",
    "    \"T2star*exvivo*.nrrd\"\n",
    "]"
   ]
  },
  {
   "cell_type": "markdown",
   "id": "e261bafa",
   "metadata": {},
   "source": [
    "# DWI exploration and normalisation"
   ]
  },
  {
   "cell_type": "code",
   "execution_count": 5,
   "id": "a22fc4f9",
   "metadata": {},
   "outputs": [],
   "source": [
    "seq_dir = Path(\"/Users/jgray/Documents/Code/mri_kidney_perfusion/data/processed/radiomics_format_sequences\")\n",
    "\n",
    "DWI_accumii = []\n",
    "\n",
    "for sequence in sequence_globs:\n",
    "    files = list(seq_dir.glob(sequence))\n",
    "    sequences = []\n",
    "    for file in files:\n",
    "        if \"dwi\" in str(file).lower():\n",
    "            data, header = nrrd.read(file)\n",
    "            DWI_accumii.append(data)\n",
    "DWI_accumii = np.array(DWI_accumii)"
   ]
  },
  {
   "cell_type": "markdown",
   "id": "4ea28ca7",
   "metadata": {},
   "source": [
    "### Discriptive stats"
   ]
  },
  {
   "cell_type": "code",
   "execution_count": null,
   "id": "37fecf0b",
   "metadata": {},
   "outputs": [],
   "source": [
    "mean = DWI_accumii.mean()\n",
    "std = DWI_accumii.std()\n",
    "\n",
    "print(f\"mean = {mean:.3f}, std = {std:.3f}\")"
   ]
  },
  {
   "cell_type": "markdown",
   "id": "47273b53",
   "metadata": {},
   "source": [
    "### Value distribution\n",
    "Low amount of values exceed above the 500 - 1000 bin."
   ]
  },
  {
   "cell_type": "code",
   "execution_count": null,
   "id": "5104866f",
   "metadata": {},
   "outputs": [],
   "source": [
    "plt.hist(DWI_accumii.flatten())\n",
    "plt.show()"
   ]
  },
  {
   "cell_type": "markdown",
   "id": "09889659",
   "metadata": {},
   "source": [
    "### Clipping data 6 standard deviations above mean"
   ]
  },
  {
   "cell_type": "code",
   "execution_count": null,
   "id": "6a790e0f",
   "metadata": {},
   "outputs": [],
   "source": [
    "upper = mean + 6 * std\n",
    "DWI_accumii = DWI_accumii.clip(max=upper)\n",
    "maxi = DWI_accumii.max()\n",
    "mini = DWI_accumii.min()"
   ]
  },
  {
   "cell_type": "code",
   "execution_count": null,
   "id": "7c5931d2",
   "metadata": {},
   "outputs": [],
   "source": [
    "print(f\"min = {mini}, max = {maxi}\")"
   ]
  },
  {
   "cell_type": "markdown",
   "id": "bc559f02",
   "metadata": {},
   "source": [
    "### Scaling all files between 0 and 1"
   ]
  },
  {
   "cell_type": "code",
   "execution_count": null,
   "id": "19ddcbb1",
   "metadata": {},
   "outputs": [],
   "source": [
    "for sequence in sequence_globs:\n",
    "    files = list(seq_dir.glob(sequence))\n",
    "    sequences = []\n",
    "    for file in files:\n",
    "        if \"dwi\" in str(file).lower():\n",
    "            data, header = nrrd.read(file)\n",
    "            data = data.clip(max=upper)\n",
    "            data = data/maxi\n",
    "            nrrd.write(str(file), data)"
   ]
  },
  {
   "cell_type": "markdown",
   "id": "644b4da4",
   "metadata": {},
   "source": [
    "# ASL exploration and normalisation"
   ]
  },
  {
   "cell_type": "code",
   "execution_count": null,
   "id": "53607a23",
   "metadata": {},
   "outputs": [],
   "source": [
    "asl_accumii = []\n",
    "\n",
    "for sequence in sequence_globs:\n",
    "    files = list(seq_dir.glob(sequence))\n",
    "    sequences = []\n",
    "    for file in files:\n",
    "        if \"asl\" in str(file).lower():\n",
    "            data, header = nrrd.read(file)\n",
    "            asl_accumii.append(data)\n",
    "asl_accumii = np.array(asl_accumii)"
   ]
  },
  {
   "cell_type": "markdown",
   "id": "2f013e17",
   "metadata": {},
   "source": [
    "### Discriptive stats"
   ]
  },
  {
   "cell_type": "code",
   "execution_count": null,
   "id": "0ef92f84",
   "metadata": {},
   "outputs": [],
   "source": [
    "mean = asl_accumii.mean()\n",
    "std = asl_accumii.std()\n",
    "\n",
    "print(f\"mean = {mean:.3f}, std = {std:.3f}\")"
   ]
  },
  {
   "cell_type": "markdown",
   "id": "c57801fd",
   "metadata": {},
   "source": [
    "### Value distribution"
   ]
  },
  {
   "cell_type": "code",
   "execution_count": null,
   "id": "a0ac8ac0",
   "metadata": {},
   "outputs": [],
   "source": [
    "plt.hist(asl_accumii.flatten())\n",
    "plt.show()"
   ]
  },
  {
   "cell_type": "markdown",
   "id": "c21e126b",
   "metadata": {},
   "source": [
    "### Clipping data 6 standard deviations above mean"
   ]
  },
  {
   "cell_type": "code",
   "execution_count": null,
   "id": "1fb0ce14",
   "metadata": {},
   "outputs": [],
   "source": [
    "upper = mean + 6 * std\n",
    "asl_accumii = asl_accumii.clip(max=upper)\n",
    "maxi = asl_accumii.max()\n",
    "mini = asl_accumii.min()"
   ]
  },
  {
   "cell_type": "code",
   "execution_count": null,
   "id": "5a1a392f",
   "metadata": {},
   "outputs": [],
   "source": [
    "print(f\"min = {mini}, max = {maxi}\")"
   ]
  },
  {
   "cell_type": "markdown",
   "id": "8a164f23",
   "metadata": {},
   "source": [
    "### Scaling all files between 0 and 1"
   ]
  },
  {
   "cell_type": "code",
   "execution_count": null,
   "id": "208efa28",
   "metadata": {},
   "outputs": [],
   "source": [
    "for sequence in sequence_globs:\n",
    "    files = list(seq_dir.glob(sequence))\n",
    "    sequences = []\n",
    "    for file in files:\n",
    "        if \"asl\" in str(file).lower():\n",
    "            data, header = nrrd.read(file)\n",
    "            data = data.clip(max=upper)\n",
    "            data = data/maxi\n",
    "            nrrd.write(str(file), data)"
   ]
  },
  {
   "cell_type": "markdown",
   "id": "6233273f",
   "metadata": {},
   "source": [
    "# T1 exploration and normalisation"
   ]
  },
  {
   "cell_type": "code",
   "execution_count": null,
   "id": "7fd18f1d",
   "metadata": {},
   "outputs": [],
   "source": [
    "seq_dir = Path(\"/Users/jgray/Documents/Code/mri_kidney_perfusion/data/processed/radiomics_format_sequences\")\n",
    "\n",
    "\n",
    "t1_accumii = []\n",
    "\n",
    "for sequence in sequence_globs:\n",
    "    files = list(seq_dir.glob(sequence))\n",
    "    sequences = []\n",
    "    for file in files:\n",
    "        if \"t1\" in str(file).lower():\n",
    "            data, header = nrrd.read(file)\n",
    "            t1_accumii.append(data)\n",
    "t1_accumii = np.array(t1_accumii)"
   ]
  },
  {
   "cell_type": "code",
   "execution_count": null,
   "id": "eaeaf692",
   "metadata": {},
   "outputs": [],
   "source": [
    "mean = t1_accumii.mean()\n",
    "std = t1_accumii.std()\n",
    "\n",
    "print(f\"mean = {mean:.3f}, std = {std:.3f}\")"
   ]
  },
  {
   "cell_type": "code",
   "execution_count": null,
   "id": "7581a881",
   "metadata": {},
   "outputs": [],
   "source": [
    "plt.hist(t1_accumii.flatten())\n",
    "plt.show()"
   ]
  },
  {
   "cell_type": "code",
   "execution_count": null,
   "id": "67fd6937",
   "metadata": {},
   "outputs": [],
   "source": [
    "maxi = t1_accumii.max()\n",
    "mini = t1_accumii.min()"
   ]
  },
  {
   "cell_type": "code",
   "execution_count": null,
   "id": "1013b181",
   "metadata": {},
   "outputs": [],
   "source": [
    "print(f\"min = {mini}, max = {maxi}\")"
   ]
  },
  {
   "cell_type": "code",
   "execution_count": null,
   "id": "1fab54ae",
   "metadata": {},
   "outputs": [],
   "source": [
    "for sequence in sequence_globs:\n",
    "    files = list(seq_dir.glob(sequence))\n",
    "    sequences = []\n",
    "    for file in files:\n",
    "        if \"t1\" in str(file).lower():\n",
    "            data, header = nrrd.read(file)\n",
    "            data = data.clip(max=upper)\n",
    "            data = data/maxi\n",
    "            nrrd.write(str(file), data)"
   ]
  },
  {
   "cell_type": "markdown",
   "id": "9a85d513",
   "metadata": {},
   "source": [
    "# T2 Exploration and normalisation"
   ]
  },
  {
   "cell_type": "code",
   "execution_count": 12,
   "id": "9d3c2e00",
   "metadata": {},
   "outputs": [],
   "source": [
    "t2_accumii = []\n",
    "\n",
    "for sequence in sequence_globs:\n",
    "    files = list(seq_dir.glob(sequence))\n",
    "    sequences = []\n",
    "    for file in files:\n",
    "        if \"t2_\" in str(file).lower() and not \"invivo\" in str(file).lower():\n",
    "            data, header = nrrd.read(file)\n",
    "            # print(file, data.shape, sep='\\n')\n",
    "            t2_accumii.append(data)\n",
    "t2_accumii = np.array(t2_accumii)"
   ]
  },
  {
   "cell_type": "code",
   "execution_count": 13,
   "id": "7be8b006",
   "metadata": {},
   "outputs": [
    {
     "name": "stdout",
     "output_type": "stream",
     "text": [
      "mean = 123.746, std = 207.854\n"
     ]
    }
   ],
   "source": [
    "mean = t2_accumii.mean()\n",
    "std = t2_accumii.std()\n",
    "\n",
    "print(f\"mean = {mean:.3f}, std = {std:.3f}\")"
   ]
  },
  {
   "cell_type": "code",
   "execution_count": 14,
   "id": "bad409c3",
   "metadata": {},
   "outputs": [
    {
     "data": {
      "image/png": "[encoded data removed]",
      "text/plain": [
       "<Figure size 640x480 with 1 Axes>"
      ]
     },
     "metadata": {},
     "output_type": "display_data"
    }
   ],
   "source": [
    "plt.hist(t2_accumii.flatten())\n",
    "plt.show()"
   ]
  },
  {
   "cell_type": "code",
   "execution_count": 15,
   "id": "97f98826",
   "metadata": {},
   "outputs": [],
   "source": [
    "upper = mean + 6 * std\n",
    "t2_accumii = t2_accumii.clip(max=upper)\n",
    "maxi = t2_accumii.max()\n",
    "mini = t2_accumii.min()"
   ]
  },
  {
   "cell_type": "code",
   "execution_count": 16,
   "id": "595be7aa",
   "metadata": {},
   "outputs": [
    {
     "name": "stdout",
     "output_type": "stream",
     "text": [
      "min = 0.0, max = 1370.871493827671\n"
     ]
    }
   ],
   "source": [
    "print(f\"min = {mini}, max = {maxi}\")"
   ]
  },
  {
   "cell_type": "code",
   "execution_count": 17,
   "id": "35a605d0",
   "metadata": {},
   "outputs": [
    {
     "data": {
      "image/png": "[encoded data removed]",
      "text/plain": [
       "<Figure size 640x480 with 1 Axes>"
      ]
     },
     "metadata": {},
     "output_type": "display_data"
    }
   ],
   "source": [
    "plt.hist(t2_accumii.flatten())\n",
    "plt.show()"
   ]
  },
  {
   "cell_type": "code",
   "execution_count": 18,
   "id": "df06a5b3",
   "metadata": {},
   "outputs": [],
   "source": [
    "for sequence in sequence_globs:\n",
    "    files = list(seq_dir.glob(sequence))\n",
    "    sequences = []\n",
    "    for file in files:\n",
    "        if \"t2_\" in str(file).lower():\n",
    "            data, header = nrrd.read(file)\n",
    "            data = data.clip(max=upper)\n",
    "            data = data/maxi\n",
    "            nrrd.write(str(file), data)"
   ]
  },
  {
   "cell_type": "markdown",
   "id": "4263d701",
   "metadata": {},
   "source": [
    "# T2 star exploration and normalisation"
   ]
  },
  {
   "cell_type": "code",
   "execution_count": 19,
   "id": "0b34e20e",
   "metadata": {},
   "outputs": [],
   "source": [
    "del t2_accumii"
   ]
  },
  {
   "cell_type": "code",
   "execution_count": 20,
   "id": "a3f4f6a3",
   "metadata": {},
   "outputs": [],
   "source": [
    "t2star_accumii = []\n",
    "\n",
    "for sequence in sequence_globs:\n",
    "    files = list(seq_dir.glob(sequence))\n",
    "    sequences = []\n",
    "    for file in files:\n",
    "        if \"t2star\" in str(file).lower() and not \"invivo\" in str(file).lower():\n",
    "            data, header = nrrd.read(file)\n",
    "            t2star_accumii.append(data)\n",
    "t2star_accumii = np.array(t2star_accumii)"
   ]
  },
  {
   "cell_type": "code",
   "execution_count": 21,
   "id": "50c8c128",
   "metadata": {},
   "outputs": [
    {
     "name": "stdout",
     "output_type": "stream",
     "text": [
      "mean = 113.588, std = 492.239\n"
     ]
    }
   ],
   "source": [
    "mean = t2star_accumii.mean()\n",
    "std = t2star_accumii.std()\n",
    "\n",
    "print(f\"mean = {mean:.3f}, std = {std:.3f}\")"
   ]
  },
  {
   "cell_type": "code",
   "execution_count": 22,
   "id": "a4a7dcb9",
   "metadata": {},
   "outputs": [
    {
     "data": {
      "image/png": "[encoded data removed]",
      "text/plain": [
       "<Figure size 640x480 with 1 Axes>"
      ]
     },
     "metadata": {},
     "output_type": "display_data"
    }
   ],
   "source": [
    "plt.hist(t2star_accumii.flatten())\n",
    "plt.show()"
   ]
  },
  {
   "cell_type": "code",
   "execution_count": 23,
   "id": "161be685",
   "metadata": {},
   "outputs": [],
   "source": [
    "t2star_accumii = t2star_accumii.clip(max=300)\n",
    "maxi = t2star_accumii.max()\n",
    "mini = t2star_accumii.min()"
   ]
  },
  {
   "cell_type": "code",
   "execution_count": 24,
   "id": "4f230f22",
   "metadata": {},
   "outputs": [
    {
     "name": "stdout",
     "output_type": "stream",
     "text": [
      "min = 0, max = 300\n"
     ]
    }
   ],
   "source": [
    "print(f\"min = {mini}, max = {maxi}\")"
   ]
  },
  {
   "cell_type": "code",
   "execution_count": 25,
   "id": "797c7f04",
   "metadata": {},
   "outputs": [
    {
     "data": {
      "image/png": "[encoded data removed]",
      "text/plain": [
       "<Figure size 640x480 with 1 Axes>"
      ]
     },
     "metadata": {},
     "output_type": "display_data"
    }
   ],
   "source": [
    "plt.hist(t2star_accumii.flatten())\n",
    "plt.show()"
   ]
  },
  {
   "cell_type": "code",
   "execution_count": 26,
   "id": "5efffbbc",
   "metadata": {},
   "outputs": [],
   "source": [
    "for sequence in sequence_globs:\n",
    "    files = list(seq_dir.glob(sequence))\n",
    "    sequences = []\n",
    "    for file in files:\n",
    "        if \"t2star\" in str(file).lower():\n",
    "            data, header = nrrd.read(file)\n",
    "            data = data.clip(max=upper)\n",
    "            data = data/maxi\n",
    "            nrrd.write(str(file), data)"
   ]
  }
 ],
 "metadata": {
  "kernelspec": {
   "display_name": "mri",
   "language": "python",
   "name": "python3"
  },
  "language_info": {
   "codemirror_mode": {
    "name": "ipython",
    "version": 3
   },
   "file_extension": ".py",
   "mimetype": "text/x-python",
   "name": "python",
   "nbconvert_exporter": "python",
   "pygments_lexer": "ipython3",
   "version": "3.11.13"
  }
 },
 "nbformat": 4,
 "nbformat_minor": 5
}
