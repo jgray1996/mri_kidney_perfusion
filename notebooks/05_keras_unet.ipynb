{
 "cells": [
  {
   "cell_type": "markdown",
   "id": "bf7567a5",
   "metadata": {},
   "source": [
    "## Medical Image Segmentation - Standard U-NET implementation"
   ]
  },
  {
   "cell_type": "code",
   "execution_count": 1,
   "id": "ed84126d",
   "metadata": {},
   "outputs": [],
   "source": [
    "%load_ext autoreload\n",
    "%autoreload 2"
   ]
  },
  {
   "cell_type": "markdown",
   "id": "06c59955",
   "metadata": {},
   "source": [
    "#### Import modules"
   ]
  },
  {
   "cell_type": "code",
   "execution_count": 2,
   "id": "73b738fb",
   "metadata": {},
   "outputs": [
    {
     "name": "stderr",
     "output_type": "stream",
     "text": [
      "2025-04-29 11:18:30.211422: I external/local_xla/xla/tsl/cuda/cudart_stub.cc:32] Could not find cuda drivers on your machine, GPU will not be used.\n",
      "2025-04-29 11:18:30.217083: I external/local_xla/xla/tsl/cuda/cudart_stub.cc:32] Could not find cuda drivers on your machine, GPU will not be used.\n",
      "2025-04-29 11:18:30.232839: E external/local_xla/xla/stream_executor/cuda/cuda_fft.cc:467] Unable to register cuFFT factory: Attempting to register factory for plugin cuFFT when one has already been registered\n",
      "WARNING: All log messages before absl::InitializeLog() is called are written to STDERR\n",
      "E0000 00:00:1745918310.257738   81899 cuda_dnn.cc:8579] Unable to register cuDNN factory: Attempting to register factory for plugin cuDNN when one has already been registered\n",
      "E0000 00:00:1745918310.265122   81899 cuda_blas.cc:1407] Unable to register cuBLAS factory: Attempting to register factory for plugin cuBLAS when one has already been registered\n",
      "W0000 00:00:1745918310.283947   81899 computation_placer.cc:177] computation placer already registered. Please check linkage and avoid linking the same target more than once.\n",
      "W0000 00:00:1745918310.283970   81899 computation_placer.cc:177] computation placer already registered. Please check linkage and avoid linking the same target more than once.\n",
      "W0000 00:00:1745918310.283973   81899 computation_placer.cc:177] computation placer already registered. Please check linkage and avoid linking the same target more than once.\n",
      "W0000 00:00:1745918310.283974   81899 computation_placer.cc:177] computation placer already registered. Please check linkage and avoid linking the same target more than once.\n",
      "2025-04-29 11:18:30.289706: I tensorflow/core/platform/cpu_feature_guard.cc:210] This TensorFlow binary is optimized to use available CPU instructions in performance-critical operations.\n",
      "To enable the following instructions: AVX2 FMA, in other operations, rebuild TensorFlow with the appropriate compiler flags.\n"
     ]
    }
   ],
   "source": [
    "import sys\n",
    "from pathlib import Path\n",
    "from tensorflow import keras\n",
    "import numpy as np\n",
    "import pandas as pd\n",
    "import matplotlib.pyplot as plt\n",
    "import sklearn as sk"
   ]
  },
  {
   "cell_type": "markdown",
   "id": "3f2af336",
   "metadata": {},
   "source": [
    "#### Local imports"
   ]
  },
  {
   "cell_type": "code",
   "execution_count": 3,
   "id": "7659b6b1",
   "metadata": {},
   "outputs": [],
   "source": [
    "sys.path.append(str(Path(\".\").resolve().parent))\n",
    "\n",
    "from scripts.experiments import InputOutput\n",
    "io = InputOutput()"
   ]
  },
  {
   "cell_type": "markdown",
   "id": "f96e0640",
   "metadata": {},
   "source": [
    "### Step 1 - Loading training data"
   ]
  },
  {
   "cell_type": "code",
   "execution_count": 4,
   "id": "1614a250",
   "metadata": {},
   "outputs": [],
   "source": [
    "dwi_sequence, dwi_segmentation = io.read_nrrds(\"../MRI_data/ROI/DWI\")\n",
    "sequence_header, sequence_vol = io.nrrd_to_matrix(dwi_sequence)\n",
    "segmentation_header, segmentation_vol = io.nrrd_to_matrix(dwi_segmentation)"
   ]
  },
  {
   "cell_type": "markdown",
   "id": "d3fcee65",
   "metadata": {},
   "source": [
    "#### Pre-processing data\n",
    "`[TO-DO] - Build the volume fixer into the InputOutput module`"
   ]
  },
  {
   "cell_type": "code",
   "execution_count": 5,
   "id": "c7d1319c",
   "metadata": {},
   "outputs": [],
   "source": [
    "def fix_volume_shape(volume):\n",
    "    \"\"\"\n",
    "    This module fixes the shape of a volume if there is a transposed image.\n",
    "    Sometimes this happens for the DWI sequence.\n",
    "    \"\"\"\n",
    "    if volume.shape[0] == 128 and volume.shape[1] == 104:\n",
    "        volume = np.transpose(volume, (1, 0, 2))\n",
    "    return volume\n",
    "\n",
    "sequence_vol = [fix_volume_shape(vol) for vol in sequence_vol]\n",
    "segmentation_vol = [fix_volume_shape(vol) for vol in segmentation_vol]"
   ]
  },
  {
   "cell_type": "markdown",
   "id": "30a5c62c",
   "metadata": {},
   "source": [
    "#### Save image volumes to an array of images"
   ]
  },
  {
   "cell_type": "code",
   "execution_count": 6,
   "id": "93ec5d46",
   "metadata": {},
   "outputs": [
    {
     "data": {
      "text/plain": [
       "((104, 128, 570), (104, 128, 570))"
      ]
     },
     "execution_count": 6,
     "metadata": {},
     "output_type": "execute_result"
    }
   ],
   "source": [
    "sequence_vol = np.concatenate(sequence_vol, axis=2)\n",
    "segmentation_vol = np.concatenate(segmentation_vol, axis=2)\n",
    "sequence_vol.shape, segmentation_vol.shape"
   ]
  },
  {
   "cell_type": "markdown",
   "id": "251573fb",
   "metadata": {},
   "source": [
    "#### Image normalization\n",
    "Succesfully training u-nets requires the image data to be standardized. The raw sequences produced by the MRI scanner contain extreme values which do not make sense to preserve in the scope of object detection.  "
   ]
  },
  {
   "cell_type": "code",
   "execution_count": 7,
   "id": "66ade2bf",
   "metadata": {},
   "outputs": [
    {
     "data": {
      "text/plain": [
       "(np.uint16(0), np.uint16(3517), np.float64(0.0), np.float64(1.0))"
      ]
     },
     "execution_count": 7,
     "metadata": {},
     "output_type": "execute_result"
    }
   ],
   "source": [
    "sequence_vol_n = sequence_vol / sequence_vol.max()\n",
    "sequence_vol.min(), sequence_vol.max(), sequence_vol_n.min(), sequence_vol_n.max()"
   ]
  },
  {
   "cell_type": "markdown",
   "id": "65770327",
   "metadata": {},
   "source": [
    "#### Sanity check for segmentation  \n",
    "Our segmentation volume is supposed to have only two classes; either renal cortex `1` or not renal-cortex `0`. The code snippet below simply returns all unique values, this confirms there are only two values with a maximum of `1`."
   ]
  },
  {
   "cell_type": "code",
   "execution_count": 8,
   "id": "f0b6bbcd",
   "metadata": {},
   "outputs": [
    {
     "data": {
      "text/plain": [
       "array([0, 1], dtype=uint8)"
      ]
     },
     "execution_count": 8,
     "metadata": {},
     "output_type": "execute_result"
    }
   ],
   "source": [
    "np.unique(segmentation_vol)"
   ]
  },
  {
   "cell_type": "markdown",
   "id": "c5c749e6",
   "metadata": {},
   "source": [
    "### Step 2 - Declaring U-net"
   ]
  },
  {
   "cell_type": "code",
   "execution_count": null,
   "id": "90e58e68",
   "metadata": {},
   "outputs": [],
   "source": []
  }
 ],
 "metadata": {
  "kernelspec": {
   "display_name": "mri",
   "language": "python",
   "name": "python3"
  },
  "language_info": {
   "codemirror_mode": {
    "name": "ipython",
    "version": 3
   },
   "file_extension": ".py",
   "mimetype": "text/x-python",
   "name": "python",
   "nbconvert_exporter": "python",
   "pygments_lexer": "ipython3",
   "version": "3.11.12"
  }
 },
 "nbformat": 4,
 "nbformat_minor": 5
}
