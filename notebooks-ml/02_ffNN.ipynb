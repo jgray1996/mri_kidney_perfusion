{
 "cells": [
  {
   "cell_type": "code",
   "execution_count": 1,
   "id": "15e0cb34",
   "metadata": {},
   "outputs": [],
   "source": [
    "from tensorflow import keras\n",
    "import numpy as np\n",
    "from matplotlib import pyplot as plt\n",
    "import nrrd\n",
    "from pathlib import Path"
   ]
  },
  {
   "cell_type": "code",
   "execution_count": null,
   "id": "385bd520",
   "metadata": {},
   "outputs": [],
   "source": [
    "files = Path(\"../sequences/Dataset001_T1/imagesRd/\").glob(\"*\")\n",
    "all_images = []\n",
    "all_labels = []\n",
    "for file in files:\n",
    "    all_labels += [file.name.split(\"_\")[-2]] * 24\n",
    "    all_images.append(nrrd.read(file)[0])\n",
    "all_images = np.array(all_images)"
   ]
  },
  {
   "cell_type": "markdown",
   "id": "042568fb",
   "metadata": {},
   "source": [
    "# Prediction of Ischemia status"
   ]
  },
  {
   "cell_type": "markdown",
   "id": "c27f2920",
   "metadata": {
    "vscode": {
     "languageId": "plaintext"
    }
   },
   "source": [
    "# Predictions of Protein expression levels."
   ]
  }
 ],
 "metadata": {
  "kernelspec": {
   "display_name": "default",
   "language": "python",
   "name": "python3"
  },
  "language_info": {
   "codemirror_mode": {
    "name": "ipython",
    "version": 3
   },
   "file_extension": ".py",
   "mimetype": "text/x-python",
   "name": "python",
   "nbconvert_exporter": "python",
   "pygments_lexer": "ipython3",
   "version": "3.12.11"
  }
 },
 "nbformat": 4,
 "nbformat_minor": 5
}
